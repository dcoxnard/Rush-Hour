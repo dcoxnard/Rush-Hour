{
 "cells": [
  {
   "cell_type": "markdown",
   "metadata": {},
   "source": [
    "# Plotting Geo-Data on GoogleMaps using Bokeh Visualization Library"
   ]
  },
  {
   "cell_type": "markdown",
   "metadata": {},
   "source": [
    "### Example: plotting the location of NYC tech companies and startups for Metis Data Science Project Benson"
   ]
  },
  {
   "cell_type": "code",
   "execution_count": null,
   "metadata": {
    "collapsed": true
   },
   "outputs": [],
   "source": [
    "from __future__ import print_function, division"
   ]
  },
  {
   "cell_type": "code",
   "execution_count": null,
   "metadata": {
    "collapsed": true
   },
   "outputs": [],
   "source": [
    "import pandas as pd\n",
    "\n",
    "import numpy as np\n",
    "import matplotlib.pyplot as plt\n",
    "import seaborn as sns\n",
    "\n",
    "%matplotlib inline"
   ]
  },
  {
   "cell_type": "code",
   "execution_count": null,
   "metadata": {
    "collapsed": true
   },
   "outputs": [],
   "source": [
    "import datetime\n",
    "import re"
   ]
  },
  {
   "cell_type": "code",
   "execution_count": null,
   "metadata": {
    "collapsed": true
   },
   "outputs": [],
   "source": [
    "# Install Google APIs Client Library for Python\n",
    "# https://developers.google.com/api-client-library/python/start/installation\n",
    "\n",
    "import googlemaps\n",
    "from datetime import datetime"
   ]
  },
  {
   "cell_type": "code",
   "execution_count": null,
   "metadata": {
    "collapsed": true
   },
   "outputs": [],
   "source": [
    "# Enter your personal API key\n",
    "# Apply for one here:\n",
    "# https://developers.google.com/maps/documentation/javascript/get-api-key\n",
    "\n",
    "gmaps = googlemaps.Client(key=\"ENTER YOUR API KEY HERE\")"
   ]
  },
  {
   "cell_type": "code",
   "execution_count": null,
   "metadata": {
    "collapsed": true
   },
   "outputs": [],
   "source": [
    "from bokeh.io import output_file, show\n",
    "from bokeh.models import (\n",
    "  GMapPlot, GMapOptions, ColumnDataSource, Circle, DataRange1d, PanTool, WheelZoomTool, BoxSelectTool, LabelSet, Label\n",
    ")"
   ]
  },
  {
   "cell_type": "code",
   "execution_count": null,
   "metadata": {
    "collapsed": true
   },
   "outputs": [],
   "source": [
    "# Import data on NYC tech companies (Source: Mapped in NYC)\n",
    "df = pd.read_csv('https://data.cityofnewyork.us/api/views/f4yq-wry5/rows.csv')"
   ]
  },
  {
   "cell_type": "code",
   "execution_count": null,
   "metadata": {},
   "outputs": [],
   "source": [
    "# Preview the dataframe\n",
    "df.head(10)"
   ]
  },
  {
   "cell_type": "code",
   "execution_count": null,
   "metadata": {},
   "outputs": [],
   "source": [
    "# Check column names\n",
    "df.columns"
   ]
  },
  {
   "cell_type": "code",
   "execution_count": null,
   "metadata": {},
   "outputs": [],
   "source": [
    "# Count the number of rows\n",
    "len(df)"
   ]
  },
  {
   "cell_type": "code",
   "execution_count": null,
   "metadata": {
    "collapsed": true
   },
   "outputs": [],
   "source": [
    "# Replace missing data with NaN (entries ' - ')\n",
    "df = df.replace(\"' - '\", np.nan)"
   ]
  },
  {
   "cell_type": "code",
   "execution_count": null,
   "metadata": {
    "collapsed": true
   },
   "outputs": [],
   "source": [
    "# Drop rows where Address is missing\n",
    "df.dropna(subset=[\"Address\"], axis=0, inplace=True)"
   ]
  },
  {
   "cell_type": "code",
   "execution_count": null,
   "metadata": {},
   "outputs": [],
   "source": [
    "# Check how many rows remain\n",
    "len(df)"
   ]
  },
  {
   "cell_type": "code",
   "execution_count": null,
   "metadata": {
    "collapsed": true
   },
   "outputs": [],
   "source": [
    "# Remove quotation marks around strings in certain columns\n",
    "df['Address'] = df.Address.apply(lambda x: re.sub(\"'\",'',x))"
   ]
  },
  {
   "cell_type": "code",
   "execution_count": null,
   "metadata": {},
   "outputs": [],
   "source": [
    "# Check value counts of City column\n",
    "#df.City.value_counts()"
   ]
  },
  {
   "cell_type": "code",
   "execution_count": null,
   "metadata": {
    "collapsed": true
   },
   "outputs": [],
   "source": [
    "# Correct for different spellings of \"New York\"\n",
    "# NOTE: Probably easier to do this using regex!\n",
    "df = df.replace(\"'New York City'\", \"'New York'\")"
   ]
  },
  {
   "cell_type": "code",
   "execution_count": null,
   "metadata": {
    "collapsed": true
   },
   "outputs": [],
   "source": [
    "# Correct for different spellings of \"New York\"\n",
    "# NOTE: Probably easier to do this using regex!\n",
    "df = df.replace(\"'New York '\", \"'New York'\")"
   ]
  },
  {
   "cell_type": "code",
   "execution_count": null,
   "metadata": {
    "collapsed": true
   },
   "outputs": [],
   "source": [
    "# Correct for different spellings of \"New York\"\n",
    "# NOTE: Probably easier to do this using regex!\n",
    "df = df.replace(\"'NY'\", \"'New York'\")"
   ]
  },
  {
   "cell_type": "code",
   "execution_count": null,
   "metadata": {
    "collapsed": true
   },
   "outputs": [],
   "source": [
    "# Correct for different spellings of \"New York\"\n",
    "# NOTE: Probably easier to do this using regex!\n",
    "df = df.replace(\"'NEW YORK'\", \"'New York'\")"
   ]
  },
  {
   "cell_type": "code",
   "execution_count": null,
   "metadata": {},
   "outputs": [],
   "source": [
    "# Check city value counts again\n",
    "df.City.value_counts()"
   ]
  },
  {
   "cell_type": "code",
   "execution_count": null,
   "metadata": {
    "collapsed": true
   },
   "outputs": [],
   "source": [
    "# Filter for only NYC companies\n",
    "df = df[df['City'] == \"'New York'\"]"
   ]
  },
  {
   "cell_type": "code",
   "execution_count": null,
   "metadata": {},
   "outputs": [],
   "source": [
    "# Check number of rows remaining\n",
    "len(df)"
   ]
  },
  {
   "cell_type": "code",
   "execution_count": null,
   "metadata": {
    "collapsed": true
   },
   "outputs": [],
   "source": [
    "# Remove quotations marks around strings in column \"City\"\n",
    "df['City'] = df.City.apply(lambda x: re.sub(\"'\",'',x))"
   ]
  },
  {
   "cell_type": "code",
   "execution_count": null,
   "metadata": {
    "collapsed": true
   },
   "outputs": [],
   "source": [
    "# get address in one cell by concatanating \"Address\" and \"City\"\n",
    "df[\"Full_Address\"] = df['Address'] + ', ' + df['City']"
   ]
  },
  {
   "cell_type": "code",
   "execution_count": null,
   "metadata": {
    "collapsed": true
   },
   "outputs": [],
   "source": [
    "# Define a function which find the latitude of a location when given an address\n",
    "# For more info on the gmaps.geocode function:\n",
    "# https://github.com/googlemaps/google-maps-services-python\n",
    "\n",
    "def get_lat(full_address):\n",
    "    geocode_result = gmaps.geocode(full_address)\n",
    "    if geocode_result:\n",
    "        return geocode_result[0][\"geometry\"][\"location\"][\"lat\"]\n",
    "    else:\n",
    "        return None"
   ]
  },
  {
   "cell_type": "code",
   "execution_count": null,
   "metadata": {},
   "outputs": [],
   "source": [
    "# test the formula\n",
    "get_lat('711 Third Avenue, New York')"
   ]
  },
  {
   "cell_type": "code",
   "execution_count": null,
   "metadata": {
    "collapsed": true
   },
   "outputs": [],
   "source": [
    "# NOTE: Running this fuction to get latitude and longitude does take some time and often times out.\n",
    "# Workaround: Run the function over the dataframe small chunks at a time (e.g. first 100 rows, then 500, etc.)"
   ]
  },
  {
   "cell_type": "code",
   "execution_count": null,
   "metadata": {
    "collapsed": true
   },
   "outputs": [],
   "source": [
    "# Apply get_lat function to first 100 rows:\n",
    "df['Latitude'] = df.Full_Address.head(100).apply(get_lat)"
   ]
  },
  {
   "cell_type": "code",
   "execution_count": null,
   "metadata": {
    "collapsed": true
   },
   "outputs": [],
   "source": [
    "# Apply get_lat function to first 500 rows:\n",
    "df['Latitude'] = df.Full_Address.head(500).apply(get_lat)"
   ]
  },
  {
   "cell_type": "code",
   "execution_count": null,
   "metadata": {
    "collapsed": true
   },
   "outputs": [],
   "source": [
    "# Define a function which find the longitude of a location when given an address\n",
    "# For more info on the gmaps.geocode function:\n",
    "# https://github.com/googlemaps/google-maps-services-python\n",
    "\n",
    "def get_lon(full_address):\n",
    "    geocode_result = gmaps.geocode(full_address)\n",
    "    if geocode_result:\n",
    "        return geocode_result[0][\"geometry\"][\"location\"][\"lng\"]\n",
    "    else:\n",
    "        return None"
   ]
  },
  {
   "cell_type": "code",
   "execution_count": null,
   "metadata": {
    "collapsed": true
   },
   "outputs": [],
   "source": [
    "# Apply get_lon function to first 100 rows:\n",
    "df['Longitude'] = df.Full_Address.head(100).apply(get_lon)"
   ]
  },
  {
   "cell_type": "code",
   "execution_count": null,
   "metadata": {
    "collapsed": true
   },
   "outputs": [],
   "source": [
    "# Apply get_lon function to first 500 rows:\n",
    "df['Longitude'] = df.Full_Address.head(500).apply(get_lon)"
   ]
  },
  {
   "cell_type": "code",
   "execution_count": null,
   "metadata": {
    "collapsed": true
   },
   "outputs": [],
   "source": [
    "# Apply get_lat function to last 500 rows (for total 1000 rows):\n",
    "df['Latitude'] = df.Full_Address.tail(500).apply(get_lat)"
   ]
  },
  {
   "cell_type": "code",
   "execution_count": null,
   "metadata": {
    "collapsed": true
   },
   "outputs": [],
   "source": [
    "# Apply get_lon function to last 500 rows (for total 1000 rows):\n",
    "df['Longitude'] = df.Full_Address.tail(500).apply(get_lon)"
   ]
  },
  {
   "cell_type": "code",
   "execution_count": null,
   "metadata": {
    "collapsed": true
   },
   "outputs": [],
   "source": [
    "# Create a new dataframe of subway stations\n",
    "stationsdf = pd.DataFrame(columns=['station'])"
   ]
  },
  {
   "cell_type": "code",
   "execution_count": null,
   "metadata": {
    "collapsed": true
   },
   "outputs": [],
   "source": [
    "# Input subway stations of interest (e.g. top 10 busiest)\n",
    "stationsdf['station'] = ['GRD CNTRL-42 ST', 'PATH NEW WTC', '34 ST-PENN STA', 'FLUSHING-MAIN', '14 ST-UNION SQ', '59 ST COLUMBUS', 'JKSN HT-ROOSVLT', '34 ST-HERALD SQ', '86 ST']"
   ]
  },
  {
   "cell_type": "code",
   "execution_count": null,
   "metadata": {
    "collapsed": true
   },
   "outputs": [],
   "source": [
    "# Apply get_lat function to all rows:\n",
    "stationsdf['Latitude'] = stationsdf.station.apply(get_lat)"
   ]
  },
  {
   "cell_type": "code",
   "execution_count": null,
   "metadata": {
    "collapsed": true
   },
   "outputs": [],
   "source": [
    "# Apply get_lon function to all rows:\n",
    "stationsdf['Longitude'] = stationsdf.station.apply(get_lon)"
   ]
  },
  {
   "cell_type": "code",
   "execution_count": null,
   "metadata": {},
   "outputs": [],
   "source": [
    "# Check datafram\n",
    "stationsdf"
   ]
  },
  {
   "cell_type": "code",
   "execution_count": null,
   "metadata": {
    "collapsed": true
   },
   "outputs": [],
   "source": [
    "# PLOT COORDINATES USING BOKEH VISUALISATION LIBRARY - map combination of stations and NYC tech companies\n",
    "# More info:\n",
    "# https://bokeh.pydata.org/en/latest/docs/user_guide/geo.html#google-maps-support\n",
    "\n",
    "map_options = GMapOptions(lat=40.7527, lng=-73.9772, map_type=\"roadmap\", zoom=15)\n",
    "\n",
    "plot = GMapPlot(\n",
    "    x_range=DataRange1d(), y_range=DataRange1d(), map_options=map_options\n",
    ")\n",
    "plot.title.text = \"Target Subway Stations (red) & NYC Tech Companies (blue)\"\n",
    "\n",
    "# For GMaps to function, Google requires you obtain and enable an API key:\n",
    "#\n",
    "#     https://developers.google.com/maps/documentation/javascript/get-api-key\n",
    "#\n",
    "# Replace the value below with your personal API key:\n",
    "plot.api_key = \"ENTER GOOGLEMAPS API KEY\"\n",
    "\n",
    "source1 = ColumnDataSource(\n",
    "    data=dict(\n",
    "        lat=df['Latitude'],\n",
    "        lon=df['Longitude'],\n",
    "    )\n",
    ")\n",
    "\n",
    "circle1 = Circle(x=\"lon\", y=\"lat\", size=12, fill_color=\"blue\", fill_alpha=0.8, line_color=None)\n",
    "plot.add_glyph(source1, circle1)\n",
    "\n",
    "source2 = ColumnDataSource(\n",
    "    data=dict(\n",
    "        lat=stationsdf['Latitude'],\n",
    "        lon=stationsdf['Longitude'],\n",
    "        names=stationsdf['station'],\n",
    "    )\n",
    ")\n",
    "\n",
    "circle2 = Circle(x=\"lon\", y=\"lat\", size=15, fill_color=\"red\", fill_alpha=0.8, line_color=None)\n",
    "plot.add_glyph(source2, circle2)\n",
    "\n",
    "labels = LabelSet(x=\"lon\", y=\"lat\", text='names', level='glyph',\n",
    "              x_offset=5, y_offset=5, source=source2, render_mode='canvas', background_fill_color='white', background_fill_alpha=1.0)\n",
    "\n",
    "plot.add_layout(labels)\n",
    "\n",
    "plot.add_tools(PanTool(), WheelZoomTool(), BoxSelectTool())\n",
    "output_file(\"gmap_plot.html\")\n",
    "show(plot)"
   ]
  }
 ],
 "metadata": {
  "kernelspec": {
   "display_name": "Python 3",
   "language": "python",
   "name": "python3"
  },
  "language_info": {
   "codemirror_mode": {
    "name": "ipython",
    "version": 3
   },
   "file_extension": ".py",
   "mimetype": "text/x-python",
   "name": "python",
   "nbconvert_exporter": "python",
   "pygments_lexer": "ipython3",
   "version": "3.6.1"
  }
 },
 "nbformat": 4,
 "nbformat_minor": 2
}
